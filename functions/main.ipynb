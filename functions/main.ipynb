{
 "cells": [
  {
   "cell_type": "code",
   "execution_count": 1,
   "metadata": {},
   "outputs": [],
   "source": [
    "from extract_recipe import extract_recipe"
   ]
  },
  {
   "cell_type": "code",
   "execution_count": 4,
   "metadata": {},
   "outputs": [],
   "source": [
    "import os\n",
    "res = extract_recipe(\"50g (1 3/4 OZ) Tin of nachovy fillets in oil. 1 bunch of fresh parsley. 2 tsp chilli flakes. 2 fat farlic gloves. 2 tbsp caprs. A large handful of kalamata olives. 2 x 400g tins of plum tomatoes. 500G (1lb 2oz) spaghetti. Olive oil. Salt and black pepper. Use a fork to get the anchovies out tof he tin, roughly chop. Then roughly chop the parsley.\", os.getenv(\"OPENAI_API_KEY\"))"
   ]
  },
  {
   "cell_type": "code",
   "execution_count": 5,
   "metadata": {},
   "outputs": [
    {
     "data": {
      "text/plain": [
       "{'status': 'success',\n",
       " 'recipe': {'title': 'Spaghetti with Anchovies and Tomatoes',\n",
       "  'ingredients': [{'name': 'Anchovy Fillets',\n",
       "    'quantity': {'value': 50, 'units': 'g'},\n",
       "    'form': 'tin',\n",
       "    'category': 'Seafood',\n",
       "    'nutritional_information': {'calories': 210,\n",
       "     'fats': 9.2,\n",
       "     'carbohydrates': 0,\n",
       "     'proteins': 29,\n",
       "     'vitamins': 0.5,\n",
       "     'minerals': 1.2},\n",
       "    'shelf_life': '1-2 years'},\n",
       "   {'name': 'Parsley',\n",
       "    'quantity': {'value': 1, 'units': 'bunch'},\n",
       "    'form': 'fresh',\n",
       "    'category': 'Herbs',\n",
       "    'nutritional_information': {'calories': 10,\n",
       "     'fats': 0.2,\n",
       "     'carbohydrates': 1.8,\n",
       "     'proteins': 0.6,\n",
       "     'vitamins': 2.3,\n",
       "     'minerals': 0.3},\n",
       "    'shelf_life': '1-2 weeks'},\n",
       "   {'name': 'Chilli Flakes',\n",
       "    'quantity': {'value': 2, 'units': 'tsp'},\n",
       "    'form': 'dried',\n",
       "    'category': 'Spices',\n",
       "    'nutritional_information': {'calories': 5,\n",
       "     'fats': 0.3,\n",
       "     'carbohydrates': 1,\n",
       "     'proteins': 0.2,\n",
       "     'vitamins': 0.1,\n",
       "     'minerals': 0.1},\n",
       "    'shelf_life': '2-3 years'},\n",
       "   {'name': 'Garlic Cloves',\n",
       "    'quantity': {'value': 2, 'units': 'cloves'},\n",
       "    'form': 'fresh',\n",
       "    'category': 'Vegetable',\n",
       "    'nutritional_information': {'calories': 4,\n",
       "     'fats': 0,\n",
       "     'carbohydrates': 1,\n",
       "     'proteins': 0.2,\n",
       "     'vitamins': 0.1,\n",
       "     'minerals': 0.1},\n",
       "    'shelf_life': '1 month'},\n",
       "   {'name': 'Capers',\n",
       "    'quantity': {'value': 2, 'units': 'tbsp'},\n",
       "    'form': '',\n",
       "    'category': 'Condiment',\n",
       "    'nutritional_information': {'calories': 2,\n",
       "     'fats': 0.1,\n",
       "     'carbohydrates': 0.4,\n",
       "     'proteins': 0.2,\n",
       "     'vitamins': 0.1,\n",
       "     'minerals': 0.1},\n",
       "    'shelf_life': '2-3 years'},\n",
       "   {'name': 'Kalamata Olives',\n",
       "    'quantity': {'value': 1, 'units': 'handful'},\n",
       "    'form': '',\n",
       "    'category': 'Condiment',\n",
       "    'nutritional_information': {'calories': 115,\n",
       "     'fats': 10,\n",
       "     'carbohydrates': 6,\n",
       "     'proteins': 0.9,\n",
       "     'vitamins': 0,\n",
       "     'minerals': 0.1},\n",
       "    'shelf_life': '1-2 years'},\n",
       "   {'name': 'Plum Tomatoes',\n",
       "    'quantity': {'value': 800, 'units': 'g'},\n",
       "    'form': 'tin',\n",
       "    'category': 'Vegetable',\n",
       "    'nutritional_information': {'calories': 157,\n",
       "     'fats': 0.9,\n",
       "     'carbohydrates': 32,\n",
       "     'proteins': 7.8,\n",
       "     'vitamins': 6.2,\n",
       "     'minerals': 2},\n",
       "    'shelf_life': '1-2 years'},\n",
       "   {'name': 'Spaghetti',\n",
       "    'quantity': {'value': 500, 'units': 'g'},\n",
       "    'form': '',\n",
       "    'category': 'Pasta',\n",
       "    'nutritional_information': {'calories': 700,\n",
       "     'fats': 2,\n",
       "     'carbohydrates': 144,\n",
       "     'proteins': 24,\n",
       "     'vitamins': 0,\n",
       "     'minerals': 0.4},\n",
       "    'shelf_life': '2 years'},\n",
       "   {'name': 'Olive Oil',\n",
       "    'quantity': {'value': 0, 'units': ''},\n",
       "    'form': '',\n",
       "    'category': 'Oil',\n",
       "    'nutritional_information': {'calories': 119,\n",
       "     'fats': 14,\n",
       "     'carbohydrates': 0,\n",
       "     'proteins': 0,\n",
       "     'vitamins': 0,\n",
       "     'minerals': 0},\n",
       "    'shelf_life': '18-24 months'},\n",
       "   {'name': 'Salt',\n",
       "    'quantity': {'value': 0, 'units': ''},\n",
       "    'form': '',\n",
       "    'category': 'Seasoning',\n",
       "    'nutritional_information': {'calories': 0,\n",
       "     'fats': 0,\n",
       "     'carbohydrates': 0,\n",
       "     'proteins': 0,\n",
       "     'vitamins': 0,\n",
       "     'minerals': 1.7},\n",
       "    'shelf_life': 'Indefinite'},\n",
       "   {'name': 'Black Pepper',\n",
       "    'quantity': {'value': 0, 'units': ''},\n",
       "    'form': '',\n",
       "    'category': 'Seasoning',\n",
       "    'nutritional_information': {'calories': 3,\n",
       "     'fats': 0.1,\n",
       "     'carbohydrates': 0.7,\n",
       "     'proteins': 0.1,\n",
       "     'vitamins': 0.1,\n",
       "     'minerals': 0.2},\n",
       "    'shelf_life': '2-3 years'}],\n",
       "  'method': ['Use a fork to get the anchovies out of the tin and roughly chop them.',\n",
       "   'Roughly chop the parsley.'],\n",
       "  'minutesRequired': 30,\n",
       "  'difficulty': 'easy'}}"
      ]
     },
     "execution_count": 5,
     "metadata": {},
     "output_type": "execute_result"
    }
   ],
   "source": [
    "res"
   ]
  },
  {
   "cell_type": "code",
   "execution_count": 6,
   "metadata": {},
   "outputs": [],
   "source": [
    "from model.RecipeData import RecipeData"
   ]
  },
  {
   "cell_type": "code",
   "execution_count": 9,
   "metadata": {},
   "outputs": [],
   "source": [
    "recipe = RecipeData.parse_obj(res['recipe'])"
   ]
  },
  {
   "cell_type": "code",
   "execution_count": 11,
   "metadata": {},
   "outputs": [
    {
     "data": {
      "text/plain": [
       "'Spaghetti with Anchovies and Tomatoes'"
      ]
     },
     "execution_count": 11,
     "metadata": {},
     "output_type": "execute_result"
    }
   ],
   "source": [
    "recipe.title"
   ]
  },
  {
   "cell_type": "code",
   "execution_count": 13,
   "metadata": {},
   "outputs": [
    {
     "name": "stdout",
     "output_type": "stream",
     "text": [
      "name='Anchovy Fillets' quantity=QuantityData(value=50.0, units='g') form='tin' category='Seafood' allergens=None substitutions=None nutritional_information=NutritionalInformation(calories=210.0, fats=9.2, carbohydrates=0.0, proteins=29.0, vitamins=0.5, minerals=1.2) shelf_life='1-2 years' seasonality=None\n",
      "name='Parsley' quantity=QuantityData(value=1.0, units='bunch') form='fresh' category='Herbs' allergens=None substitutions=None nutritional_information=NutritionalInformation(calories=10.0, fats=0.2, carbohydrates=1.8, proteins=0.6, vitamins=2.3, minerals=0.3) shelf_life='1-2 weeks' seasonality=None\n",
      "name='Chilli Flakes' quantity=QuantityData(value=2.0, units='tsp') form='dried' category='Spices' allergens=None substitutions=None nutritional_information=NutritionalInformation(calories=5.0, fats=0.3, carbohydrates=1.0, proteins=0.2, vitamins=0.1, minerals=0.1) shelf_life='2-3 years' seasonality=None\n",
      "name='Garlic Cloves' quantity=QuantityData(value=2.0, units='cloves') form='fresh' category='Vegetable' allergens=None substitutions=None nutritional_information=NutritionalInformation(calories=4.0, fats=0.0, carbohydrates=1.0, proteins=0.2, vitamins=0.1, minerals=0.1) shelf_life='1 month' seasonality=None\n",
      "name='Capers' quantity=QuantityData(value=2.0, units='tbsp') form='' category='Condiment' allergens=None substitutions=None nutritional_information=NutritionalInformation(calories=2.0, fats=0.1, carbohydrates=0.4, proteins=0.2, vitamins=0.1, minerals=0.1) shelf_life='2-3 years' seasonality=None\n",
      "name='Kalamata Olives' quantity=QuantityData(value=1.0, units='handful') form='' category='Condiment' allergens=None substitutions=None nutritional_information=NutritionalInformation(calories=115.0, fats=10.0, carbohydrates=6.0, proteins=0.9, vitamins=0.0, minerals=0.1) shelf_life='1-2 years' seasonality=None\n",
      "name='Plum Tomatoes' quantity=QuantityData(value=800.0, units='g') form='tin' category='Vegetable' allergens=None substitutions=None nutritional_information=NutritionalInformation(calories=157.0, fats=0.9, carbohydrates=32.0, proteins=7.8, vitamins=6.2, minerals=2.0) shelf_life='1-2 years' seasonality=None\n",
      "name='Spaghetti' quantity=QuantityData(value=500.0, units='g') form='' category='Pasta' allergens=None substitutions=None nutritional_information=NutritionalInformation(calories=700.0, fats=2.0, carbohydrates=144.0, proteins=24.0, vitamins=0.0, minerals=0.4) shelf_life='2 years' seasonality=None\n",
      "name='Olive Oil' quantity=QuantityData(value=0.0, units='') form='' category='Oil' allergens=None substitutions=None nutritional_information=NutritionalInformation(calories=119.0, fats=14.0, carbohydrates=0.0, proteins=0.0, vitamins=0.0, minerals=0.0) shelf_life='18-24 months' seasonality=None\n",
      "name='Salt' quantity=QuantityData(value=0.0, units='') form='' category='Seasoning' allergens=None substitutions=None nutritional_information=NutritionalInformation(calories=0.0, fats=0.0, carbohydrates=0.0, proteins=0.0, vitamins=0.0, minerals=1.7) shelf_life='Indefinite' seasonality=None\n",
      "name='Black Pepper' quantity=QuantityData(value=0.0, units='') form='' category='Seasoning' allergens=None substitutions=None nutritional_information=NutritionalInformation(calories=3.0, fats=0.1, carbohydrates=0.7, proteins=0.1, vitamins=0.1, minerals=0.2) shelf_life='2-3 years' seasonality=None\n"
     ]
    }
   ],
   "source": [
    "for ingredient in recipe.ingredients:\n",
    "    print(ingredient)\n",
    "    input()"
   ]
  },
  {
   "cell_type": "code",
   "execution_count": null,
   "metadata": {},
   "outputs": [],
   "source": []
  }
 ],
 "metadata": {
  "kernelspec": {
   "display_name": "Python 3",
   "language": "python",
   "name": "python3"
  },
  "language_info": {
   "codemirror_mode": {
    "name": "ipython",
    "version": 3
   },
   "file_extension": ".py",
   "mimetype": "text/x-python",
   "name": "python",
   "nbconvert_exporter": "python",
   "pygments_lexer": "ipython3",
   "version": "3.11.0"
  }
 },
 "nbformat": 4,
 "nbformat_minor": 2
}
